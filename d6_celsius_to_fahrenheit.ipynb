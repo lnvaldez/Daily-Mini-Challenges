{
 "cells": [
  {
   "cell_type": "code",
   "execution_count": null,
   "metadata": {},
   "outputs": [],
   "source": [
    "class Color:\n",
    "\n",
    "    MAGENTA = '\\x1b[35m'\n",
    "    CYAN = '\\x1b[36m'\n",
    "    ENDC = '\\033[0m'\n",
    "\n",
    "def check_temp(temp):\n",
    "    \n",
    "    if temp > 95 and temp < 140:\n",
    "        return '🥵'\n",
    "    elif temp > 60 and temp < 100:\n",
    "        return '😁'\n",
    "    elif temp > 20 and temp < 60:\n",
    "        return '🥶'\n",
    "    else:\n",
    "        return '💀'\n",
    "\n",
    "def celsius_to_fahrenheit(temp_in_celsius):\n",
    "\n",
    "     fahrenheit = (temp_in_celsius * 9/5) + 32\n",
    "\n",
    "     return fahrenheit\n",
    "\n",
    "MAGENTA_CLR = Color.MAGENTA\n",
    "CYAN_CLR = Color.CYAN\n",
    "END_CLR = Color.ENDC\n",
    "\n",
    "user_input = int(input(\"Enter temperature in celsius: \"))\n",
    "\n",
    "fahrenheit = celsius_to_fahrenheit(user_input)\n",
    "temp_eval = check_temp(fahrenheit)\n",
    "\n",
    "print(f'{MAGENTA_CLR}{user_input} °C{END_CLR} = {CYAN_CLR}{fahrenheit} °F{END_CLR} {temp_eval}')\n"
   ]
  }
 ],
 "metadata": {
  "kernelspec": {
   "display_name": "Python 3",
   "language": "python",
   "name": "python3"
  },
  "language_info": {
   "codemirror_mode": {
    "name": "ipython",
    "version": 3
   },
   "file_extension": ".py",
   "mimetype": "text/x-python",
   "name": "python",
   "nbconvert_exporter": "python",
   "pygments_lexer": "ipython3",
   "version": "3.12.3"
  }
 },
 "nbformat": 4,
 "nbformat_minor": 2
}
